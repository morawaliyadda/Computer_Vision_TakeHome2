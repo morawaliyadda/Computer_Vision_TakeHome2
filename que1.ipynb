{
  "cells": [
    {
      "cell_type": "code",
      "execution_count": null,
      "metadata": {
        "id": "Ch9qWe3TsZXC"
      },
      "outputs": [],
      "source": [
        "import cv2\n",
        "import numpy as np\n",
        "import matplotlib.pyplot as plt"
      ]
    },
    {
      "cell_type": "code",
      "execution_count": null,
      "metadata": {
        "id": "9eI97LzWtNzy"
      },
      "outputs": [],
      "source": [
        "# Step 1: Create an image with 2 objects and background\n",
        "image = np.zeros((100, 100), dtype=np.uint8)\n",
        "image[20:50, 20:50] = 85     # Object 1\n",
        "image[60:90, 60:90] = 170    # Object 2"
      ]
    },
    {
      "cell_type": "code",
      "execution_count": null,
      "metadata": {
        "id": "8gy6rh98tU0t"
      },
      "outputs": [],
      "source": [
        "# Step 2: Add Gaussian noise\n",
        "mean = 0\n",
        "std_dev = 20\n",
        "gaussian_noise = np.random.normal(mean, std_dev, image.shape).astype(np.float32)"
      ]
    },
    {
      "cell_type": "code",
      "execution_count": null,
      "metadata": {
        "id": "H9Ci-YEUtX7e"
      },
      "outputs": [],
      "source": [
        "# Convert image to float32 before adding noise\n",
        "noisy_img = image.astype(np.float32) + gaussian_noise"
      ]
    },
    {
      "cell_type": "code",
      "execution_count": null,
      "metadata": {
        "id": "LOtoO6LHtbLz"
      },
      "outputs": [],
      "source": [
        "# Clip and convert back to uint8\n",
        "noisy_img = np.clip(noisy_img, 0, 255).astype(np.uint8)"
      ]
    },
    {
      "cell_type": "code",
      "execution_count": null,
      "metadata": {
        "id": "HC7-aaRcteht"
      },
      "outputs": [],
      "source": [
        "# Step 3: Apply Otsu's thresholding on the noisy image\n",
        "blur = cv2.GaussianBlur(noisy_img, (5, 5), 0)  # Optional: slight smoothing helps Otsu\n",
        "_, otsu_thresh = cv2.threshold(blur, 0, 255, cv2.THRESH_BINARY + cv2.THRESH_OTSU)"
      ]
    },
    {
      "cell_type": "code",
      "execution_count": null,
      "metadata": {
        "colab": {
          "base_uri": "https://localhost:8080/",
          "height": 52
        },
        "id": "IVs1IkY4tiKz",
        "outputId": "ff662234-e200-4d4c-8830-3ce7e0e4494e"
      },
      "outputs": [],
      "source": [
        "# Step 4: Display results\n",
        "plt.figure(figsize=(12, 4))"
      ]
    },
    {
      "cell_type": "code",
      "execution_count": null,
      "metadata": {
        "colab": {
          "base_uri": "https://localhost:8080/",
          "height": 252
        },
        "id": "Ng6VwJvbtnsV",
        "outputId": "bff8615a-8e63-4656-e079-800415c7e635"
      },
      "outputs": [],
      "source": [
        "plt.subplot(1, 3, 1)\n",
        "plt.title(\"Original Image\")\n",
        "plt.imshow(image, cmap='gray')\n",
        "plt.axis('off')\n",
        "\n",
        "plt.subplot(1, 3, 2)\n",
        "plt.title(\"Noisy Image\")\n",
        "plt.imshow(noisy_img, cmap='gray')\n",
        "plt.axis('off')\n",
        "\n",
        "plt.subplot(1, 3, 3)\n",
        "plt.title(\"Otsu Thresholded\")\n",
        "plt.imshow(otsu_thresh, cmap='gray')\n",
        "plt.axis('off')\n",
        "\n",
        "plt.tight_layout()\n",
        "plt.show()"
      ]
    },
    {
      "cell_type": "markdown",
      "metadata": {
        "id": "W88k_9AatNY4"
      },
      "source": []
    }
  ],
  "metadata": {
    "colab": {
      "provenance": []
    },
    "kernelspec": {
      "display_name": "base",
      "language": "python",
      "name": "python3"
    },
    "language_info": {
      "codemirror_mode": {
        "name": "ipython",
        "version": 3
      },
      "file_extension": ".py",
      "mimetype": "text/x-python",
      "name": "python",
      "nbconvert_exporter": "python",
      "pygments_lexer": "ipython3",
      "version": "3.10.9"
    }
  },
  "nbformat": 4,
  "nbformat_minor": 0
}
